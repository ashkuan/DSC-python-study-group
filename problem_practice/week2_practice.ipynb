{
 "cells": [
  {
   "cell_type": "markdown",
   "metadata": {},
   "source": [
    "## Week2 Ch3 Variables and Ch4 Number and String"
   ]
  },
  {
   "cell_type": "markdown",
   "metadata": {},
   "source": [
    "## Ch3 Variables"
   ]
  },
  {
   "cell_type": "code",
   "execution_count": null,
   "metadata": {},
   "outputs": [],
   "source": [
    "# Using Input function\n",
    "# when you run this block on vscode, you need to type your name and enter, type age and enter\n",
    "name = input()\n",
    "age = input()\n",
    "print(f\"My name is {name}, and I am {age} years old.\")"
   ]
  },
  {
   "cell_type": "markdown",
   "metadata": {},
   "source": [
    "## CH4 Number and String"
   ]
  },
  {
   "cell_type": "code",
   "execution_count": null,
   "metadata": {},
   "outputs": [],
   "source": [
    "#乘除符號運算\n",
    "a = 5\n",
    "b = 3\n",
    "# a * b\n",
    "# guess here: \n",
    "# a ** b\n",
    "# guess here: \n",
    "# a / b\n",
    "# guess here: \n",
    "# a // b\n",
    "# guess here: \n",
    "\n",
    "print(f'{a} * {b} = {a * b}') \n",
    "print(f'{a} ** {b} = {a ** b}') \n",
    "print(f'{a} / {b} = {a / b}') \n",
    "print(f'{a} // {b} = {a // b}') \n"
   ]
  },
  {
   "cell_type": "code",
   "execution_count": null,
   "metadata": {},
   "outputs": [],
   "source": [
    "# string index\n",
    "message = 'python'\n",
    "#message[0]\n",
    "# guess here:\n",
    "#message[-2]\n",
    "# guess here:\n",
    "#message[10]\n",
    "# guess here:\n",
    "print(f'message[0] is {message[0]}')\n",
    "print(f'message[-2] is {message[-2]}')\n",
    "print(f'message[10] is {message[10]}')"
   ]
  },
  {
   "cell_type": "code",
   "execution_count": null,
   "metadata": {},
   "outputs": [],
   "source": [
    "#string slice\n",
    "message = 'python'\n",
    "#message[0:4:1]\n",
    "# guess here:\n",
    "#message[6: 2: -2]\n",
    "# guess here:\n",
    "#message[::-1]\n",
    "# guess here:\n",
    "print(f'message[0: 4: 1] is {message[0: 4: 1]}')\n",
    "print(f'message[6: 2: -2] is {message[6: 2: -2]}')\n",
    "print(f'message[::-1] is {message[::-1]}')"
   ]
  }
 ],
 "metadata": {
  "kernelspec": {
   "display_name": "env",
   "language": "python",
   "name": "python3"
  },
  "language_info": {
   "codemirror_mode": {
    "name": "ipython",
    "version": 3
   },
   "file_extension": ".py",
   "mimetype": "text/x-python",
   "name": "python",
   "nbconvert_exporter": "python",
   "pygments_lexer": "ipython3",
   "version": "3.12.2"
  }
 },
 "nbformat": 4,
 "nbformat_minor": 2
}
