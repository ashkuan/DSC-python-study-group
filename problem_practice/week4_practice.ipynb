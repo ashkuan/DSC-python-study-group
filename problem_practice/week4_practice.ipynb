{
 "cells": [
  {
   "cell_type": "markdown",
   "metadata": {},
   "source": [
    "## Week4 "
   ]
  },
  {
   "cell_type": "markdown",
   "metadata": {},
   "source": [
    "## Ch. 7 List"
   ]
  },
  {
   "cell_type": "code",
   "execution_count": null,
   "metadata": {},
   "outputs": [],
   "source": [
    "lst = [2 * i for i in range(5)]\n",
    "# guess lst:\n",
    "print(f'lst = {lst}')\n",
    "\n",
    "# guess lst[0:10]:\n",
    "print(f'lst[0:10] = {lst[0:10]}')\n",
    "\n",
    "#guess the different between these list_b, list_c\n",
    "# lst_b = \n",
    "# list_c = \n",
    "lst_b = lst * 2\n",
    "print(lst_b)\n",
    "\n",
    "lst_c = [0] * len(lst)\n",
    "for i in range(len(lst)):\n",
    "    lst_c[i] = lst[i] * 2\n",
    "print(lst_c)\n",
    "\n",
    "matrix = [[1, 2], [3, 4], [5, 6]]\n",
    "# guess the different between matrix1 and matrix2:\n",
    "# matrix1 :\n",
    "# matrix2 :\n",
    "matrix1 = [matrix[i][j] for i in range(len(matrix)) for j in range(len(matrix[0]))]\n",
    "matrix2 = [matrix[i][j] for j in range(len(matrix[0])) for i in range(len(matrix))]\n",
    "\n",
    "print(matrix1)\n",
    "print(matrix2)\n"
   ]
  },
  {
   "cell_type": "markdown",
   "metadata": {},
   "source": [
    "## Ch.8 Dictionary"
   ]
  },
  {
   "cell_type": "code",
   "execution_count": null,
   "metadata": {},
   "outputs": [],
   "source": [
    "# download collections package\n",
    "# There is a useful defaultdict function  \n",
    "from collections import defaultdict"
   ]
  }
 ],
 "metadata": {
  "language_info": {
   "name": "python"
  }
 },
 "nbformat": 4,
 "nbformat_minor": 2
}
