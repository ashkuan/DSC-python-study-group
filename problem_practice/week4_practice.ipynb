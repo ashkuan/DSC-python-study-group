{
 "cells": [
  {
   "cell_type": "markdown",
   "metadata": {},
   "source": [
    "## Week4 "
   ]
  },
  {
   "cell_type": "markdown",
   "metadata": {},
   "source": [
    "## Ch. 7 List"
   ]
  },
  {
   "cell_type": "code",
   "execution_count": 14,
   "metadata": {},
   "outputs": [
    {
     "name": "stdout",
     "output_type": "stream",
     "text": [
      "lst = [0, 2, 4, 6, 8]\n",
      "lst[0:10] = [0, 2, 4, 6, 8]\n",
      "lst_b: [0, 2, 4, 6, 8, 0, 2, 4, 6, 8]\n",
      "lst_c: [0, 4, 8, 12, 16]\n",
      "matrix1: [1, 2, 3, 4, 5, 6]\n",
      "matrix1: [1, 3, 5, 2, 4, 6]\n"
     ]
    }
   ],
   "source": [
    "lst = [2 * i for i in range(5)]\n",
    "# guess lst: []\n",
    "print(f'lst = {lst}')\n",
    "\n",
    "# guess lst[0:10]: \n",
    "print(f'lst[0:10] = {lst[0:10]}')\n",
    "\n",
    "#guess the different between these list_b, list_c\n",
    "# lst_b = \n",
    "# list_c = \n",
    "lst_b = lst * 2\n",
    "print(f'lst_b: {lst_b}')\n",
    "\n",
    "lst_c = [0] * len(lst)\n",
    "for i in range(len(lst)):\n",
    "    lst_c[i] = lst[i] * 2\n",
    "print(f'lst_c: {lst_c}')\n",
    "\n",
    "matrix = [[1, 2], [3, 4], [5, 6]]\n",
    "# guess the different between matrix1 and matrix2:\n",
    "# matrix1 :\n",
    "# matrix2 :\n",
    "matrix1 = [matrix[i][j] for i in range(len(matrix)) for j in range(len(matrix[0]))]\n",
    "matrix2 = [matrix[i][j] for j in range(len(matrix[0])) for i in range(len(matrix))]\n",
    "\n",
    "print(f'matrix1: {matrix1}')\n",
    "print(f'matrix1: {matrix2}')\n"
   ]
  },
  {
   "cell_type": "markdown",
   "metadata": {},
   "source": [
    "## Ch.8 Dictionary"
   ]
  },
  {
   "cell_type": "code",
   "execution_count": 6,
   "metadata": {},
   "outputs": [],
   "source": [
    "# download collections package\n",
    "# There is a useful defaultdict function  \n",
    "from collections import defaultdict\n",
    "from collections import Counter"
   ]
  },
  {
   "cell_type": "code",
   "execution_count": 4,
   "metadata": {},
   "outputs": [
    {
     "name": "stdout",
     "output_type": "stream",
     "text": [
      "defaultdict(<class 'int'>, {0: 0, 1: 1, 2: 2, 3: 3, 4: 4, 5: 5, 6: 6, 7: 7, 8: 8, 9: 9})\n"
     ]
    }
   ],
   "source": [
    "d = defaultdict(int)\n",
    "for i in range(10):\n",
    "    d[i] += i\n",
    "print(d)\n"
   ]
  },
  {
   "cell_type": "code",
   "execution_count": 11,
   "metadata": {},
   "outputs": [
    {
     "name": "stdout",
     "output_type": "stream",
     "text": [
      "Counter({0: 3, 2: 3, 6: 2, 1: 1, 34: 1, 5: 1})\n",
      "Counter({'Hello': 1, 'today': 1, 'is': 1, 'wednesday': 1})\n"
     ]
    }
   ],
   "source": [
    "nums = [0, 0, 0,1,2,2,2,34,5,6,6]\n",
    "string = 'Hello today is wednesday '\n",
    "count_nums= Counter(nums)\n",
    "count_string = Counter(string.split())\n",
    "print(count_nums)\n",
    "print(count_string)"
   ]
  },
  {
   "cell_type": "code",
   "execution_count": 12,
   "metadata": {},
   "outputs": [
    {
     "name": "stdout",
     "output_type": "stream",
     "text": [
      "{0: 3, 1: 1, 2: 3, 34: 1, 5: 1, 6: 2}\n"
     ]
    }
   ],
   "source": [
    "nums = [0, 0, 0,1,2,2,2,34,5,6,6]\n",
    "d= {}\n",
    "for num in nums:\n",
    "    d[num] = d.get(num, 0) + 1\n",
    "print(d)"
   ]
  },
  {
   "cell_type": "code",
   "execution_count": 5,
   "metadata": {},
   "outputs": [
    {
     "name": "stdout",
     "output_type": "stream",
     "text": [
      "defaultdict(<class 'list'>, {0: [0], 1: [1], 2: [2], 3: [3], 4: [4]})\n"
     ]
    }
   ],
   "source": [
    "d = defaultdict(list)\n",
    "for i in range(5):\n",
    "    d[i].append(i)\n",
    "print(d)"
   ]
  }
 ],
 "metadata": {
  "kernelspec": {
   "display_name": "env",
   "language": "python",
   "name": "python3"
  },
  "language_info": {
   "codemirror_mode": {
    "name": "ipython",
    "version": 3
   },
   "file_extension": ".py",
   "mimetype": "text/x-python",
   "name": "python",
   "nbconvert_exporter": "python",
   "pygments_lexer": "ipython3",
   "version": "3.12.2"
  }
 },
 "nbformat": 4,
 "nbformat_minor": 2
}
