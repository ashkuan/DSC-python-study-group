{
 "cells": [
  {
   "cell_type": "markdown",
   "metadata": {},
   "source": [
    "## Week2 Ch5 Boolean and Ch6 Loop"
   ]
  },
  {
   "cell_type": "markdown",
   "metadata": {},
   "source": [
    "## Ch5 Boolean"
   ]
  },
  {
   "cell_type": "code",
   "execution_count": null,
   "metadata": {},
   "outputs": [],
   "source": [
    "'''\n",
    "x and y “and”-如果x為False，返回x的值，否則它返回y的計算值。\n",
    "x or y “or”-如果x是True，返回x的值，否則它返回y的計算值。\n",
    "not x -如果x為True，返回False。如果x為False，它返回True。\n",
    "優先級 not > and > or\n",
    "'''\n",
    "# 1. False and True\n",
    "# guess here: \n",
    "\n",
    "# 2. False and False\n",
    "# guess here: \n",
    "\n",
    "# 3. False or True\n",
    "# guess here: \n",
    "\n",
    "# 4. False or  False\n",
    "# guess here: \n",
    "\n",
    "# 5. 0 and 3\n",
    "# guess here: \n",
    "\n",
    "# 6. 1 and 3\n",
    "# guess here: \n",
    "\n",
    "# 7. 1 or 3\n",
    "# guess here: \n",
    "\n",
    "# 8. 0 or 3\n",
    "# guess here: \n",
    "\n",
    "print(f'{False} and {True} = {False and True}') \n",
    "print(f'{False} and {False} = {False and False}') \n",
    "print(f'{False} or {True} = {False or True}') \n",
    "print(f'{False} or {False} = {False or False}') \n",
    "print(f'{0} and {3} = {0 and 3}') \n",
    "print(f'{1} and {3} = {1 and 3}') \n",
    "print(f'{0} or {3} = {0 or 3}') \n",
    "print(f'{1} or {3} = {1 or 3}') \n",
    "\n"
   ]
  },
  {
   "cell_type": "markdown",
   "metadata": {},
   "source": [
    "## Ch6. Loop "
   ]
  },
  {
   "cell_type": "code",
   "execution_count": null,
   "metadata": {},
   "outputs": [],
   "source": [
    "# guess what number will print out\n",
    "# guess here: \n",
    "for i in range(5):\n",
    "    if i > 3:\n",
    "        break\n",
    "    print(i)"
   ]
  },
  {
   "cell_type": "code",
   "execution_count": null,
   "metadata": {},
   "outputs": [],
   "source": [
    "# guess what number will print out\n",
    "# guess here: \n",
    "i = 0\n",
    "while i <  10:\n",
    "    i += 1\n",
    "    if i % 2 == 0:\n",
    "        print(i)\n",
    "    if i > 6:\n",
    "        break\n"
   ]
  }
 ],
 "metadata": {
  "kernelspec": {
   "display_name": "env",
   "language": "python",
   "name": "python3"
  },
  "language_info": {
   "codemirror_mode": {
    "name": "ipython",
    "version": 3
   },
   "file_extension": ".py",
   "mimetype": "text/x-python",
   "name": "python",
   "nbconvert_exporter": "python",
   "pygments_lexer": "ipython3",
   "version": "3.12.2"
  }
 },
 "nbformat": 4,
 "nbformat_minor": 2
}
